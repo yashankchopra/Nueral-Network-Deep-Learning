{
 "cells": [
  {
   "cell_type": "markdown",
   "metadata": {},
   "source": [
    "# 1. Importing Necessary Libraries"
   ]
  },
  {
   "cell_type": "code",
   "execution_count": 2,
   "metadata": {},
   "outputs": [],
   "source": [
    "import matplotlib.pyplot as plt\n",
    "import numpy as np\n",
    "from tensorflow.keras.models import Sequential\n",
    "from tensorflow.keras.layers import Embedding, LSTM, TimeDistributed, Flatten, Dense\n",
    "from random import seed\n",
    "seed(10)\n",
    "from tensorflow.random import set_seed\n",
    "set_seed(10)\n",
    "from keras.preprocessing.sequence import pad_sequences\n"
   ]
  },
  {
   "cell_type": "markdown",
   "metadata": {},
   "source": [
    "# 2. Importing data"
   ]
  },
  {
   "cell_type": "code",
   "execution_count": 3,
   "metadata": {},
   "outputs": [],
   "source": [
    "from tensorflow.keras.datasets import imdb\n",
    "(train_data, train_labels), (test_data, test_labels) = imdb.load_data(num_words=10000)\n",
    "data = np.concatenate((train_data, test_data), axis=0)\n",
    "labels = np.concatenate((train_labels, test_labels), axis=0)"
   ]
  },
  {
   "cell_type": "code",
   "execution_count": 4,
   "metadata": {},
   "outputs": [
    {
     "data": {
      "text/plain": [
       "numpy.ndarray"
      ]
     },
     "execution_count": 4,
     "metadata": {},
     "output_type": "execute_result"
    }
   ],
   "source": [
    "type (data)"
   ]
  },
  {
   "cell_type": "markdown",
   "metadata": {},
   "source": [
    "# 3. Pad each sentence to be of same length (300)\n"
   ]
  },
  {
   "cell_type": "code",
   "execution_count": 5,
   "metadata": {},
   "outputs": [
    {
     "data": {
      "image/png": "[encoded data removed]",
      "text/plain": [
       "<Figure size 1800x576 with 1 Axes>"
      ]
     },
     "metadata": {
      "needs_background": "light"
     },
     "output_type": "display_data"
    },
    {
     "name": "stdout",
     "output_type": "stream",
     "text": [
      "Average review length: 234.75892\n",
      "Standard deviation: 173\n",
      "No of reviews with length below 300: 38583\n"
     ]
    }
   ],
   "source": [
    "length = [len(i) for i in data]\n",
    "plt.figure(figsize=(25,8))\n",
    "plt.hist(length, bins= 200)\n",
    "plt.plot([300, 300], [0, 4000], 'r', linewidth=2.0)\n",
    "plt.show()\n",
    "print(\"Average review length: {}\".format(np.mean(length)))\n",
    "print(\"Standard deviation: {}\".format(round(np.std(length))))\n",
    "print(\"No of reviews with length below 300: {}\".format(sum(i < 301 for i in length)))"
   ]
  },
  {
   "cell_type": "code",
   "execution_count": 6,
   "metadata": {},
   "outputs": [],
   "source": [
    "data_padded = pad_sequences(data, padding='post', maxlen=300)"
   ]
  },
  {
   "cell_type": "code",
   "execution_count": 7,
   "metadata": {},
   "outputs": [
    {
     "name": "stdout",
     "output_type": "stream",
     "text": [
      "Number of reviews : 50000\n"
     ]
    }
   ],
   "source": [
    "print ('Number of reviews :',data_padded.shape[0])"
   ]
  },
  {
   "cell_type": "code",
   "execution_count": 8,
   "metadata": {},
   "outputs": [
    {
     "name": "stdout",
     "output_type": "stream",
     "text": [
      "Number of words in each review: 300\n"
     ]
    }
   ],
   "source": [
    "print ('Number of words in each review:',data_padded.shape[1])"
   ]
  },
  {
   "cell_type": "code",
   "execution_count": 9,
   "metadata": {},
   "outputs": [
    {
     "name": "stdout",
     "output_type": "stream",
     "text": [
      "Number of labels: 50000\n"
     ]
    }
   ],
   "source": [
    "print ('Number of labels:', labels.shape[0])"
   ]
  },
  {
   "cell_type": "code",
   "execution_count": 10,
   "metadata": {},
   "outputs": [
    {
     "data": {
      "text/plain": [
       "array([   1,   14,   22,   16,   43,  530,  973, 1622, 1385,   65,  458,\n",
       "       4468,   66, 3941,    4,  173,   36,  256,    5,   25,  100,   43,\n",
       "        838,  112,   50,  670,    2,    9,   35,  480,  284,    5,  150,\n",
       "          4,  172,  112,  167,    2,  336,  385,   39,    4,  172, 4536,\n",
       "       1111,   17,  546,   38,   13,  447,    4,  192,   50,   16,    6,\n",
       "        147, 2025,   19,   14,   22,    4, 1920, 4613,  469,    4,   22,\n",
       "         71,   87,   12,   16,   43,  530,   38,   76,   15,   13, 1247,\n",
       "          4,   22,   17,  515,   17,   12,   16,  626,   18,    2,    5,\n",
       "         62,  386,   12,    8,  316,    8,  106,    5,    4, 2223, 5244,\n",
       "         16,  480,   66, 3785,   33,    4,  130,   12,   16,   38,  619,\n",
       "          5,   25,  124,   51,   36,  135,   48,   25, 1415,   33,    6,\n",
       "         22,   12,  215,   28,   77,   52,    5,   14,  407,   16,   82,\n",
       "          2,    8,    4,  107,  117, 5952,   15,  256,    4,    2,    7,\n",
       "       3766,    5,  723,   36,   71,   43,  530,  476,   26,  400,  317,\n",
       "         46,    7,    4,    2, 1029,   13,  104,   88,    4,  381,   15,\n",
       "        297,   98,   32, 2071,   56,   26,  141,    6,  194, 7486,   18,\n",
       "          4,  226,   22,   21,  134,  476,   26,  480,    5,  144,   30,\n",
       "       5535,   18,   51,   36,   28,  224,   92,   25,  104,    4,  226,\n",
       "         65,   16,   38, 1334,   88,   12,   16,  283,    5,   16, 4472,\n",
       "        113,  103,   32,   15,   16, 5345,   19,  178,   32,    0,    0,\n",
       "          0,    0,    0,    0,    0,    0,    0,    0,    0,    0,    0,\n",
       "          0,    0,    0,    0,    0,    0,    0,    0,    0,    0,    0,\n",
       "          0,    0,    0,    0,    0,    0,    0,    0,    0,    0,    0,\n",
       "          0,    0,    0,    0,    0,    0,    0,    0,    0,    0,    0,\n",
       "          0,    0,    0,    0,    0,    0,    0,    0,    0,    0,    0,\n",
       "          0,    0,    0,    0,    0,    0,    0,    0,    0,    0,    0,\n",
       "          0,    0,    0,    0,    0,    0,    0,    0,    0,    0,    0,\n",
       "          0,    0,    0], dtype=int32)"
      ]
     },
     "execution_count": 10,
     "metadata": {},
     "output_type": "execute_result"
    }
   ],
   "source": [
    "data_padded[0]"
   ]
  },
  {
   "cell_type": "code",
   "execution_count": 11,
   "metadata": {},
   "outputs": [
    {
     "data": {
      "text/plain": [
       "1"
      ]
     },
     "execution_count": 11,
     "metadata": {},
     "output_type": "execute_result"
    }
   ],
   "source": [
    "labels[0]"
   ]
  },
  {
   "cell_type": "markdown",
   "metadata": {},
   "source": [
    "## Decoding the feature value to get original sentence\n"
   ]
  },
  {
   "cell_type": "code",
   "execution_count": 12,
   "metadata": {},
   "outputs": [],
   "source": [
    "word_index = imdb.get_word_index()\n",
    "reverse_word_index = dict([(value, key) for (key, value) in word_index.items()])\n"
   ]
  },
  {
   "cell_type": "code",
   "execution_count": 13,
   "metadata": {},
   "outputs": [
    {
     "name": "stdout",
     "output_type": "stream",
     "text": [
      "# big hair big boobs bad music and a giant safety pin these are the words to best describe this terrible movie i love cheesy horror movies and i've seen hundreds but this had got to be on of the worst ever made the plot is paper thin and ridiculous the acting is an abomination the script is completely laughable the best is the end showdown with the cop and how he worked out who the killer is it's just so damn terribly written the clothes are sickening and funny in equal # the hair is big lots of boobs # men wear those cut # shirts that show off their # sickening that men actually wore them and the music is just # trash that plays over and over again in almost every scene there is trashy music boobs and # taking away bodies and the gym still doesn't close for # all joking aside this is a truly bad film whose only charm is to look back on the disaster that was the 80's and have a good old laugh at how bad everything was back then # # # # # # # # # # # # # # # # # # # # # # # # # # # # # # # # # # # # # # # # # # # # # # # # # # # # # # # # # # # # # # # # # # # # # # # # # # # # # # # # # # # # # # # # # # # # # # # # # # # # # # # # # # # # # # #\n"
     ]
    }
   ],
   "source": [
    "print(\" \".join([reverse_word_index.get(n-3, '#') for n in data_padded[1]]))\n"
   ]
  },
  {
   "cell_type": "markdown",
   "metadata": {},
   "source": [
    "## Sentiment is labeled as \n",
    "### Positive = 1\n",
    "### Negative = 0"
   ]
  },
  {
   "cell_type": "code",
   "execution_count": 14,
   "metadata": {},
   "outputs": [
    {
     "data": {
      "text/plain": [
       "0"
      ]
     },
     "execution_count": 14,
     "metadata": {},
     "output_type": "execute_result"
    }
   ],
   "source": [
    "labels[1]"
   ]
  },
  {
   "cell_type": "markdown",
   "metadata": {},
   "source": [
    "#### Hence the above review is labeled as a Negative review. "
   ]
  },
  {
   "cell_type": "code",
   "execution_count": 15,
   "metadata": {},
   "outputs": [],
   "source": [
    "from sklearn.model_selection import train_test_split\n",
    "train_X, test_X, train_y, test_y = train_test_split(data_padded, labels, test_size=0.20, random_state=0)\n"
   ]
  },
  {
   "cell_type": "markdown",
   "metadata": {},
   "source": [
    "# Creating Model "
   ]
  },
  {
   "cell_type": "code",
   "execution_count": 16,
   "metadata": {},
   "outputs": [],
   "source": [
    "model = Sequential()\n",
    "model.add(Embedding(input_dim=10000, output_dim=100, input_length=300))\n",
    "model.add(LSTM(units=100, return_sequences=True, dropout=0.2))\n",
    "model.add(TimeDistributed(Dense(100)))\n",
    "model.add(Flatten())\n",
    "model.add(Dense(1, activation='sigmoid'))"
   ]
  },
  {
   "cell_type": "markdown",
   "metadata": {},
   "source": [
    "# Compiling the Model"
   ]
  },
  {
   "cell_type": "code",
   "execution_count": 17,
   "metadata": {},
   "outputs": [],
   "source": [
    "model.compile(optimizer=\"adam\", loss=\"binary_crossentropy\", metrics=[\"accuracy\"])\n"
   ]
  },
  {
   "cell_type": "code",
   "execution_count": 18,
   "metadata": {},
   "outputs": [
    {
     "name": "stdout",
     "output_type": "stream",
     "text": [
      "Model: \"sequential\"\n",
      "_________________________________________________________________\n",
      " Layer (type)                Output Shape              Param #   \n",
      "=================================================================\n",
      " embedding (Embedding)       (None, 300, 100)          1000000   \n",
      "                                                                 \n",
      " lstm (LSTM)                 (None, 300, 100)          80400     \n",
      "                                                                 \n",
      " time_distributed (TimeDistr  (None, 300, 100)         10100     \n",
      " ibuted)                                                         \n",
      "                                                                 \n",
      " flatten (Flatten)           (None, 30000)             0         \n",
      "                                                                 \n",
      " dense_1 (Dense)             (None, 1)                 30001     \n",
      "                                                                 \n",
      "=================================================================\n",
      "Total params: 1,120,501\n",
      "Trainable params: 1,120,501\n",
      "Non-trainable params: 0\n",
      "_________________________________________________________________\n"
     ]
    }
   ],
   "source": [
    "model.summary()\n",
    "\n"
   ]
  },
  {
   "cell_type": "markdown",
   "metadata": {},
   "source": [
    "# Fitting the model"
   ]
  },
  {
   "cell_type": "code",
   "execution_count": 19,
   "metadata": {},
   "outputs": [
    {
     "name": "stdout",
     "output_type": "stream",
     "text": [
      "Epoch 1/3\n",
      "120/120 [==============================] - 332s 3s/step - loss: 0.4030 - accuracy: 0.7987 - val_loss: 0.2954 - val_accuracy: 0.8730\n",
      "Epoch 2/3\n",
      "120/120 [==============================] - 335s 3s/step - loss: 0.2248 - accuracy: 0.9106 - val_loss: 0.2741 - val_accuracy: 0.8855\n",
      "Epoch 3/3\n",
      "120/120 [==============================] - 319s 3s/step - loss: 0.1828 - accuracy: 0.9296 - val_loss: 0.2975 - val_accuracy: 0.8838\n"
     ]
    }
   ],
   "source": [
    "history = model.fit(train_X, np.array(train_y), batch_size=300, epochs=3, validation_split=0.1, verbose=1)\n"
   ]
  },
  {
   "cell_type": "markdown",
   "metadata": {},
   "source": [
    "# Evaluating the model"
   ]
  },
  {
   "cell_type": "code",
   "execution_count": 20,
   "metadata": {},
   "outputs": [
    {
     "name": "stdout",
     "output_type": "stream",
     "text": [
      "313/313 [==============================] - 28s 88ms/step - loss: 0.2951 - accuracy: 0.8888\n"
     ]
    }
   ],
   "source": [
    "results = model.evaluate(test_X, test_y)\n"
   ]
  },
  {
   "cell_type": "code",
   "execution_count": 21,
   "metadata": {},
   "outputs": [
    {
     "data": {
      "text/plain": [
       "array([[4455,  538],\n",
       "       [ 574, 4433]])"
      ]
     },
     "execution_count": 21,
     "metadata": {},
     "output_type": "execute_result"
    }
   ],
   "source": [
    "from sklearn.metrics import confusion_matrix\n",
    "predict_y = (model.predict(test_X) > 0.5).astype(\"int32\").flatten()\n",
    "confusion_matrix(test_y, predict_y)"
   ]
  },
  {
   "cell_type": "code",
   "execution_count": 22,
   "metadata": {},
   "outputs": [
    {
     "name": "stdout",
     "output_type": "stream",
     "text": [
      "Prediction: [1] | Ground Truth: 1\n"
     ]
    }
   ],
   "source": [
    "print('Prediction: {} | Ground Truth: {}'.format(((model.predict(test_X[0].reshape(-1,300)) > 0.5).astype(\"int32\").flatten()), test_y[0]))\n"
   ]
  },
  {
   "cell_type": "markdown",
   "metadata": {},
   "source": [
    "# PART 2"
   ]
  },
  {
   "cell_type": "markdown",
   "metadata": {},
   "source": [
    "## IMPORTING NECESSARY LIBRARIES\n"
   ]
  },
  {
   "cell_type": "code",
   "execution_count": 23,
   "metadata": {},
   "outputs": [],
   "source": [
    "import pandas as pd\n",
    "import numpy as np\n",
    "import matplotlib.pyplot as plt\n",
    "import seaborn as sns\n",
    "from sklearn.model_selection import train_test_split\n",
    "from sklearn.preprocessing import LabelEncoder\n",
    "from keras.models import Model\n",
    "from keras.layers import LSTM, Activation, Dense, Dropout, Input, Embedding\n",
    "\n",
    "from keras.preprocessing.text import Tokenizer\n",
    "from keras.preprocessing import sequence\n",
    "from keras.callbacks import EarlyStopping\n",
    "from sklearn.feature_extraction.text import CountVectorizer\n",
    "from keras.preprocessing.text import Tokenizer\n",
    "from keras.preprocessing.sequence import pad_sequences\n",
    "from keras.models import Sequential\n",
    "from keras.layers import Dense, Embedding, LSTM, SpatialDropout1D\n",
    "from sklearn.model_selection import train_test_split\n",
    "from keras.utils.np_utils import to_categorical\n",
    "%matplotlib inline\n",
    "import os\n",
    "import re\n",
    "# print(os.listdir(\"../input\"))\n",
    "import tensorflow as tf"
   ]
  },
  {
   "cell_type": "markdown",
   "metadata": {},
   "source": [
    "### Importing Dataset"
   ]
  },
  {
   "cell_type": "code",
   "execution_count": 24,
   "metadata": {},
   "outputs": [],
   "source": [
    "import json\n",
    "\n",
    "def parse_data(file):\n",
    "    for l in open(file,'r'):\n",
    "        yield json.loads(l)\n",
    "\n",
    "data = list(parse_data('/Users/Chopra/Documents/GL/Sarcasm_Headlines_Dataset.json'))"
   ]
  },
  {
   "cell_type": "code",
   "execution_count": 25,
   "metadata": {},
   "outputs": [],
   "source": [
    "import json\n",
    "\n",
    "def parse_data(file):\n",
    "    for l in open(file,'r'):\n",
    "        yield json.loads(l)\n",
    "\n",
    "data2 = list(parse_data('/Users/Chopra/Documents/GL/Sarcasm_Headlines_Dataset_v2.json'))\n"
   ]
  },
  {
   "cell_type": "markdown",
   "metadata": {},
   "source": [
    "### Creating dataframes of Dataset"
   ]
  },
  {
   "cell_type": "code",
   "execution_count": 26,
   "metadata": {},
   "outputs": [],
   "source": [
    "df=pd.DataFrame(data)\n",
    "df2=pd.DataFrame(data2)"
   ]
  },
  {
   "cell_type": "code",
   "execution_count": 27,
   "metadata": {},
   "outputs": [
    {
     "data": {
      "text/html": [
       "<div>\n",
       "<style scoped>\n",
       "    .dataframe tbody tr th:only-of-type {\n",
       "        vertical-align: middle;\n",
       "    }\n",
       "\n",
       "    .dataframe tbody tr th {\n",
       "        vertical-align: top;\n",
       "    }\n",
       "\n",
       "    .dataframe thead th {\n",
       "        text-align: right;\n",
       "    }\n",
       "</style>\n",
       "<table border=\"1\" class=\"dataframe\">\n",
       "  <thead>\n",
       "    <tr style=\"text-align: right;\">\n",
       "      <th></th>\n",
       "      <th>headline</th>\n",
       "      <th>is_sarcastic</th>\n",
       "    </tr>\n",
       "  </thead>\n",
       "  <tbody>\n",
       "    <tr>\n",
       "      <th>0</th>\n",
       "      <td>former versace store clerk sues over secret 'b...</td>\n",
       "      <td>0</td>\n",
       "    </tr>\n",
       "    <tr>\n",
       "      <th>1</th>\n",
       "      <td>the 'roseanne' revival catches up to our thorn...</td>\n",
       "      <td>0</td>\n",
       "    </tr>\n",
       "    <tr>\n",
       "      <th>2</th>\n",
       "      <td>mom starting to fear son's web series closest ...</td>\n",
       "      <td>1</td>\n",
       "    </tr>\n",
       "    <tr>\n",
       "      <th>3</th>\n",
       "      <td>boehner just wants wife to listen, not come up...</td>\n",
       "      <td>1</td>\n",
       "    </tr>\n",
       "    <tr>\n",
       "      <th>4</th>\n",
       "      <td>j.k. rowling wishes snape happy birthday in th...</td>\n",
       "      <td>0</td>\n",
       "    </tr>\n",
       "  </tbody>\n",
       "</table>\n",
       "</div>"
      ],
      "text/plain": [
       "                                            headline  is_sarcastic\n",
       "0  former versace store clerk sues over secret 'b...             0\n",
       "1  the 'roseanne' revival catches up to our thorn...             0\n",
       "2  mom starting to fear son's web series closest ...             1\n",
       "3  boehner just wants wife to listen, not come up...             1\n",
       "4  j.k. rowling wishes snape happy birthday in th...             0"
      ]
     },
     "execution_count": 27,
     "metadata": {},
     "output_type": "execute_result"
    }
   ],
   "source": [
    "df = df[['headline','is_sarcastic']]\n",
    "df.head()"
   ]
  },
  {
   "cell_type": "code",
   "execution_count": 28,
   "metadata": {},
   "outputs": [
    {
     "data": {
      "text/html": [
       "<div>\n",
       "<style scoped>\n",
       "    .dataframe tbody tr th:only-of-type {\n",
       "        vertical-align: middle;\n",
       "    }\n",
       "\n",
       "    .dataframe tbody tr th {\n",
       "        vertical-align: top;\n",
       "    }\n",
       "\n",
       "    .dataframe thead th {\n",
       "        text-align: right;\n",
       "    }\n",
       "</style>\n",
       "<table border=\"1\" class=\"dataframe\">\n",
       "  <thead>\n",
       "    <tr style=\"text-align: right;\">\n",
       "      <th></th>\n",
       "      <th>headline</th>\n",
       "      <th>is_sarcastic</th>\n",
       "    </tr>\n",
       "  </thead>\n",
       "  <tbody>\n",
       "    <tr>\n",
       "      <th>0</th>\n",
       "      <td>thirtysomething scientists unveil doomsday clo...</td>\n",
       "      <td>1</td>\n",
       "    </tr>\n",
       "    <tr>\n",
       "      <th>1</th>\n",
       "      <td>dem rep. totally nails why congress is falling...</td>\n",
       "      <td>0</td>\n",
       "    </tr>\n",
       "    <tr>\n",
       "      <th>2</th>\n",
       "      <td>eat your veggies: 9 deliciously different recipes</td>\n",
       "      <td>0</td>\n",
       "    </tr>\n",
       "    <tr>\n",
       "      <th>3</th>\n",
       "      <td>inclement weather prevents liar from getting t...</td>\n",
       "      <td>1</td>\n",
       "    </tr>\n",
       "    <tr>\n",
       "      <th>4</th>\n",
       "      <td>mother comes pretty close to using word 'strea...</td>\n",
       "      <td>1</td>\n",
       "    </tr>\n",
       "  </tbody>\n",
       "</table>\n",
       "</div>"
      ],
      "text/plain": [
       "                                            headline  is_sarcastic\n",
       "0  thirtysomething scientists unveil doomsday clo...             1\n",
       "1  dem rep. totally nails why congress is falling...             0\n",
       "2  eat your veggies: 9 deliciously different recipes             0\n",
       "3  inclement weather prevents liar from getting t...             1\n",
       "4  mother comes pretty close to using word 'strea...             1"
      ]
     },
     "execution_count": 28,
     "metadata": {},
     "output_type": "execute_result"
    }
   ],
   "source": [
    "df2 = df2[['headline','is_sarcastic']]\n",
    "df2.head()\n"
   ]
  },
  {
   "cell_type": "code",
   "execution_count": 29,
   "metadata": {},
   "outputs": [
    {
     "data": {
      "image/png": "[encoded data removed]",
      "text/plain": [
       "<Figure size 432x288 with 1 Axes>"
      ]
     },
     "metadata": {
      "needs_background": "light"
     },
     "output_type": "display_data"
    }
   ],
   "source": [
    "ax = sns.countplot(x=\"is_sarcastic\", data=df)\n"
   ]
  },
  {
   "cell_type": "code",
   "execution_count": 30,
   "metadata": {},
   "outputs": [
    {
     "data": {
      "image/png": "[encoded data removed]",
      "text/plain": [
       "<Figure size 432x288 with 1 Axes>"
      ]
     },
     "metadata": {
      "needs_background": "light"
     },
     "output_type": "display_data"
    }
   ],
   "source": [
    "ax = sns.countplot(x=\"is_sarcastic\", data=df2)"
   ]
  },
  {
   "cell_type": "markdown",
   "metadata": {},
   "source": [
    "#### Making changes to the data, lower casing and spacing"
   ]
  },
  {
   "cell_type": "code",
   "execution_count": 31,
   "metadata": {},
   "outputs": [],
   "source": [
    "df['headline'] = df['headline'].apply(lambda x: x.lower())\n",
    "df['headline'] = df['headline'].apply((lambda x: re.sub('[^a-zA-z0-9\\s]','',x)))"
   ]
  },
  {
   "cell_type": "code",
   "execution_count": 32,
   "metadata": {},
   "outputs": [
    {
     "data": {
      "text/plain": [
       "0        former versace store clerk sues over secret bl...\n",
       "1        the roseanne revival catches up to our thorny ...\n",
       "2        mom starting to fear sons web series closest t...\n",
       "3        boehner just wants wife to listen not come up ...\n",
       "4        jk rowling wishes snape happy birthday in the ...\n",
       "                               ...                        \n",
       "26704                  american politics in moral freefall\n",
       "26705                               americas best 20 hikes\n",
       "26706                                reparations and obama\n",
       "26707    israeli ban targeting boycott supporters raise...\n",
       "26708                    gourmet gifts for the foodie 2014\n",
       "Name: headline, Length: 26709, dtype: object"
      ]
     },
     "execution_count": 32,
     "metadata": {},
     "output_type": "execute_result"
    }
   ],
   "source": [
    "df['headline']"
   ]
  },
  {
   "cell_type": "code",
   "execution_count": 33,
   "metadata": {},
   "outputs": [],
   "source": [
    "df2['headline'] = df2['headline'].apply(lambda x: x.lower())\n",
    "df2['headline'] = df2['headline'].apply((lambda x: re.sub('[^a-zA-z0-9\\s]','',x)))"
   ]
  },
  {
   "cell_type": "code",
   "execution_count": 34,
   "metadata": {},
   "outputs": [],
   "source": [
    "vocab_size = 10000\n",
    "embedding_dim = 16\n",
    "max_length = 100\n",
    "\n",
    "tokenizer = Tokenizer(num_words=vocab_size, oov_token=\"<OOV>\")\n",
    "tokenizer.fit_on_texts(df2['headline'])\n",
    "word_index = tokenizer.word_index\n",
    "\n",
    "training_sequences = tokenizer.texts_to_sequences(df2['headline'])\n",
    "training_padded = pad_sequences(training_sequences,maxlen=max_length, padding='post', truncating='post')\n",
    "\n",
    "testing_sequences = tokenizer.texts_to_sequences(df['headline'])\n",
    "testing_padded = pad_sequences(testing_sequences, maxlen=max_length, padding='post', truncating='post')"
   ]
  },
  {
   "cell_type": "code",
   "execution_count": 35,
   "metadata": {},
   "outputs": [
    {
     "data": {
      "text/plain": [
       "array([[   1,  337, 3106, ...,    0,    0,    0],\n",
       "       [7348, 1732,  733, ...,    0,    0,    0],\n",
       "       [ 893,   35,    1, ...,    0,    0,    0],\n",
       "       ...,\n",
       "       [   4,   97,  590, ...,    0,    0,    0],\n",
       "       [1830, 1284, 3255, ...,    0,    0,    0],\n",
       "       [ 210, 3224,   21, ...,    0,    0,    0]], dtype=int32)"
      ]
     },
     "execution_count": 35,
     "metadata": {},
     "output_type": "execute_result"
    }
   ],
   "source": [
    "training_padded\n"
   ]
  },
  {
   "cell_type": "code",
   "execution_count": 36,
   "metadata": {},
   "outputs": [],
   "source": [
    "training_padded = np.array(training_padded)\n",
    "training_labels = np.array(df2['is_sarcastic'])\n",
    "testing_padded = np.array(testing_padded)\n",
    "testing_labels = np.array(df['is_sarcastic'])"
   ]
  },
  {
   "cell_type": "markdown",
   "metadata": {},
   "source": [
    "### Defining, compiling and running the MODEL"
   ]
  },
  {
   "cell_type": "code",
   "execution_count": 37,
   "metadata": {},
   "outputs": [
    {
     "name": "stdout",
     "output_type": "stream",
     "text": [
      "Epoch 1/30\n",
      "895/895 - 72s - loss: 0.3913 - accuracy: 0.8191 - val_loss: 0.2230 - val_accuracy: 0.9215 - 72s/epoch - 80ms/step\n",
      "Epoch 2/30\n",
      "895/895 - 65s - loss: 0.2389 - accuracy: 0.9042 - val_loss: 0.1497 - val_accuracy: 0.9492 - 65s/epoch - 72ms/step\n",
      "Epoch 3/30\n",
      "895/895 - 65s - loss: 0.1658 - accuracy: 0.9363 - val_loss: 0.1000 - val_accuracy: 0.9694 - 65s/epoch - 73ms/step\n",
      "Epoch 4/30\n",
      "895/895 - 67s - loss: 0.1196 - accuracy: 0.9568 - val_loss: 0.0710 - val_accuracy: 0.9799 - 67s/epoch - 75ms/step\n",
      "Epoch 5/30\n",
      "895/895 - 67s - loss: 0.0875 - accuracy: 0.9687 - val_loss: 0.0537 - val_accuracy: 0.9856 - 67s/epoch - 75ms/step\n",
      "Epoch 6/30\n",
      "895/895 - 65s - loss: 0.0698 - accuracy: 0.9765 - val_loss: 0.0426 - val_accuracy: 0.9888 - 65s/epoch - 72ms/step\n",
      "Epoch 7/30\n",
      "895/895 - 64s - loss: 0.0498 - accuracy: 0.9834 - val_loss: 0.0281 - val_accuracy: 0.9922 - 64s/epoch - 71ms/step\n",
      "Epoch 8/30\n",
      "895/895 - 65s - loss: 0.0347 - accuracy: 0.9888 - val_loss: 0.0197 - val_accuracy: 0.9950 - 65s/epoch - 72ms/step\n",
      "Epoch 9/30\n",
      "895/895 - 64s - loss: 0.0245 - accuracy: 0.9925 - val_loss: 0.0161 - val_accuracy: 0.9955 - 64s/epoch - 72ms/step\n",
      "Epoch 10/30\n",
      "895/895 - 65s - loss: 0.0200 - accuracy: 0.9941 - val_loss: 0.0170 - val_accuracy: 0.9948 - 65s/epoch - 72ms/step\n",
      "Epoch 11/30\n",
      "895/895 - 73s - loss: 0.0204 - accuracy: 0.9936 - val_loss: 0.0110 - val_accuracy: 0.9966 - 73s/epoch - 82ms/step\n",
      "Epoch 12/30\n",
      "895/895 - 65s - loss: 0.0120 - accuracy: 0.9963 - val_loss: 0.0072 - val_accuracy: 0.9979 - 65s/epoch - 72ms/step\n",
      "Epoch 13/30\n",
      "895/895 - 65s - loss: 0.0096 - accuracy: 0.9971 - val_loss: 0.0045 - val_accuracy: 0.9986 - 65s/epoch - 72ms/step\n",
      "Epoch 14/30\n",
      "895/895 - 64s - loss: 0.0114 - accuracy: 0.9958 - val_loss: 0.0088 - val_accuracy: 0.9967 - 64s/epoch - 72ms/step\n",
      "Epoch 15/30\n",
      "895/895 - 64s - loss: 0.0090 - accuracy: 0.9967 - val_loss: 0.0033 - val_accuracy: 0.9990 - 64s/epoch - 72ms/step\n",
      "Epoch 16/30\n",
      "895/895 - 65s - loss: 0.0059 - accuracy: 0.9980 - val_loss: 0.0063 - val_accuracy: 0.9979 - 65s/epoch - 72ms/step\n",
      "Epoch 17/30\n",
      "895/895 - 64s - loss: 0.0043 - accuracy: 0.9985 - val_loss: 0.0020 - val_accuracy: 0.9994 - 64s/epoch - 72ms/step\n",
      "Epoch 18/30\n",
      "895/895 - 70s - loss: 0.0060 - accuracy: 0.9981 - val_loss: 0.0044 - val_accuracy: 0.9984 - 70s/epoch - 78ms/step\n",
      "Epoch 19/30\n",
      "895/895 - 73s - loss: 0.0065 - accuracy: 0.9981 - val_loss: 0.0035 - val_accuracy: 0.9990 - 73s/epoch - 82ms/step\n",
      "Epoch 20/30\n",
      "895/895 - 73s - loss: 0.0037 - accuracy: 0.9988 - val_loss: 0.0077 - val_accuracy: 0.9974 - 73s/epoch - 81ms/step\n",
      "Epoch 21/30\n",
      "895/895 - 73s - loss: 0.0033 - accuracy: 0.9990 - val_loss: 0.0032 - val_accuracy: 0.9990 - 73s/epoch - 82ms/step\n",
      "Epoch 22/30\n",
      "895/895 - 73s - loss: 0.0033 - accuracy: 0.9990 - val_loss: 0.0029 - val_accuracy: 0.9990 - 73s/epoch - 81ms/step\n",
      "Epoch 23/30\n",
      "895/895 - 73s - loss: 0.0027 - accuracy: 0.9991 - val_loss: 0.0017 - val_accuracy: 0.9995 - 73s/epoch - 81ms/step\n",
      "Epoch 24/30\n",
      "895/895 - 73s - loss: 0.0035 - accuracy: 0.9989 - val_loss: 0.0017 - val_accuracy: 0.9996 - 73s/epoch - 82ms/step\n",
      "Epoch 25/30\n",
      "895/895 - 76s - loss: 0.0021 - accuracy: 0.9994 - val_loss: 0.0016 - val_accuracy: 0.9995 - 76s/epoch - 85ms/step\n",
      "Epoch 26/30\n",
      "895/895 - 65s - loss: 0.0018 - accuracy: 0.9994 - val_loss: 0.0035 - val_accuracy: 0.9990 - 65s/epoch - 73ms/step\n",
      "Epoch 27/30\n",
      "895/895 - 65s - loss: 0.0023 - accuracy: 0.9993 - val_loss: 9.6949e-04 - val_accuracy: 0.9998 - 65s/epoch - 73ms/step\n",
      "Epoch 28/30\n",
      "895/895 - 66s - loss: 0.0031 - accuracy: 0.9992 - val_loss: 8.8675e-04 - val_accuracy: 0.9998 - 66s/epoch - 73ms/step\n",
      "Epoch 29/30\n",
      "895/895 - 64s - loss: 0.0016 - accuracy: 0.9994 - val_loss: 6.6099e-04 - val_accuracy: 0.9998 - 64s/epoch - 72ms/step\n",
      "Epoch 30/30\n",
      "895/895 - 66s - loss: 0.0011 - accuracy: 0.9997 - val_loss: 5.8953e-04 - val_accuracy: 0.9999 - 66s/epoch - 74ms/step\n"
     ]
    }
   ],
   "source": [
    "model = tf.keras.Sequential([\n",
    "    tf.keras.layers.Embedding(vocab_size, embedding_dim, input_length = max_length),\n",
    "    tf.keras.layers.Bidirectional(tf.keras.layers.LSTM(32)),\n",
    "    tf.keras.layers.Dense(24, activation='relu'),\n",
    "    tf.keras.layers.Dense(1, activation='sigmoid')\n",
    "])\n",
    "\n",
    "model.compile(loss='binary_crossentropy',optimizer='adam',metrics=['accuracy'])\n",
    "history = model.fit(training_padded, training_labels, epochs=30, validation_data=(testing_padded, testing_labels), verbose=2)"
   ]
  },
  {
   "cell_type": "code",
   "execution_count": 38,
   "metadata": {},
   "outputs": [
    {
     "name": "stdout",
     "output_type": "stream",
     "text": [
      "835/835 [==============================] - 12s 15ms/step - loss: 5.8953e-04 - accuracy: 0.9999\n"
     ]
    }
   ],
   "source": [
    "score,acc=model.evaluate(testing_padded,testing_labels)\n"
   ]
  },
  {
   "cell_type": "code",
   "execution_count": 39,
   "metadata": {},
   "outputs": [
    {
     "data": {
      "text/plain": [
       "(0.9998502135276794, 0.0005895327776670456)"
      ]
     },
     "execution_count": 39,
     "metadata": {},
     "output_type": "execute_result"
    }
   ],
   "source": [
    "acc,score\n"
   ]
  },
  {
   "cell_type": "code",
   "execution_count": null,
   "metadata": {},
   "outputs": [],
   "source": []
  }
 ],
 "metadata": {
  "kernelspec": {
   "display_name": "Python 3",
   "language": "python",
   "name": "python3"
  },
  "language_info": {
   "codemirror_mode": {
    "name": "ipython",
    "version": 3
   },
   "file_extension": ".py",
   "mimetype": "text/x-python",
   "name": "python",
   "nbconvert_exporter": "python",
   "pygments_lexer": "ipython3",
   "version": "3.8.5"
  }
 },
 "nbformat": 4,
 "nbformat_minor": 4
}
